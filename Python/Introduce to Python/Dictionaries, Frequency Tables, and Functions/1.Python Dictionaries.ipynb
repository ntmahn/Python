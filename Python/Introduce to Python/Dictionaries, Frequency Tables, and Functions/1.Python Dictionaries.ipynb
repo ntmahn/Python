{
 "cells": [
  {
   "cell_type": "markdown",
   "metadata": {},
   "source": [
    "1. Python Dictionaries"
   ]
  },
  {
   "cell_type": "code",
   "execution_count": 1,
   "metadata": {},
   "outputs": [],
   "source": [
    "#Storing Data\n",
    "content_ratings = ['4+', '9+', '12+', '17+']\n",
    "numbers = [4433, 987, 1155, 622]\n",
    "\n",
    "content_rating_numbers = [['4+', '9+', '12+', '17+'],[4433, 987, 1155, 622]]"
   ]
  },
  {
   "cell_type": "code",
   "execution_count": 4,
   "metadata": {},
   "outputs": [
    {
     "name": "stdout",
     "output_type": "stream",
     "text": [
      "{'4+': 4433, '9+': 987, '12+': 1155, '17+': 622}\n"
     ]
    }
   ],
   "source": [
    "#Dictionaries\n",
    "content_ratings = {'4+': 4433, '9+': 987, '12+': 1155, '17+': 622}\n",
    "print(content_ratings)"
   ]
  },
  {
   "cell_type": "code",
   "execution_count": 6,
   "metadata": {},
   "outputs": [
    {
     "name": "stdout",
     "output_type": "stream",
     "text": [
      "987\n",
      "622\n"
     ]
    }
   ],
   "source": [
    "#Indexing\n",
    "content_ratings = {'4+': 4433, '9+': 987, '12+': 1155, '17+': 622}\n",
    "over_9 = content_ratings['9+']\n",
    "over_17 = content_ratings['17+']\n",
    "\n",
    "print(over_9)\n",
    "print(over_17)"
   ]
  },
  {
   "cell_type": "code",
   "execution_count": 10,
   "metadata": {},
   "outputs": [],
   "source": [
    "#Alternative Method of Creating a Dictionary\n",
    "content_ratings={}\n",
    "content_ratings['12+']=1155\n",
    "content_ratings['17+']=622\n",
    "content_ratings['4+']=4433\n",
    "content_ratings['9+']=987\n",
    "\n",
    "over_12_n_apps = content_ratings['12+']"
   ]
  },
  {
   "cell_type": "code",
   "execution_count": 12,
   "metadata": {},
   "outputs": [
    {
     "name": "stdout",
     "output_type": "stream",
     "text": [
      "{'key_1': 'value_1', 'key_2': 1, 'key_3': 1.832, 'key_4': False, 'key_5': [1, 2, 3], 'key_6': {'inner_key': 10}}\n",
      "value_1\n",
      "{'inner_key': 10}\n"
     ]
    }
   ],
   "source": [
    "#Key-Value Pairs\n",
    "d_1 = {'key_1': 'value_1', \n",
    "       'key_2': 1,\n",
    "       'key_3': 1.832,\n",
    "       'key_4': False,\n",
    "       'key_5': [1,2,3],\n",
    "       'key_6': {'inner_key' : 10}}\n",
    "\n",
    "print(d_1)\n",
    "print(d_1['key_1'])\n",
    "print(d_1['key_6'])"
   ]
  },
  {
   "cell_type": "code",
   "execution_count": 13,
   "metadata": {},
   "outputs": [
    {
     "name": "stdout",
     "output_type": "stream",
     "text": [
      "{'key_1': 'first_value', 'key_2': 2, 'key_3': 3.14, 'key_4': True, 'key_5': [4, 2, 1], 'key_6': {'inner_key': 6}}\n"
     ]
    }
   ],
   "source": [
    "# Key-Value Pairs Continued\n",
    "d_1={'key_1': 'first_value', \n",
    " 'key_2': 2,\n",
    " 'key_3': 3.14,\n",
    " 'key_4': True,\n",
    " 'key_5': [4,2,1],\n",
    " 'key_6': {'inner_key' : 6}\n",
    " }\n",
    "\n",
    "print(d_1)"
   ]
  }
 ],
 "metadata": {
  "kernelspec": {
   "display_name": "Python 3",
   "language": "python",
   "name": "python3"
  },
  "language_info": {
   "codemirror_mode": {
    "name": "ipython",
    "version": 3
   },
   "file_extension": ".py",
   "mimetype": "text/x-python",
   "name": "python",
   "nbconvert_exporter": "python",
   "pygments_lexer": "ipython3",
   "version": "3.10.9"
  },
  "orig_nbformat": 4
 },
 "nbformat": 4,
 "nbformat_minor": 2
}
