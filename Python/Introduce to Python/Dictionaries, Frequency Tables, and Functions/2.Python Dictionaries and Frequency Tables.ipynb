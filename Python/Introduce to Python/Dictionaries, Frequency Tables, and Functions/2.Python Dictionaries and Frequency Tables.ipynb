{
 "cells": [
  {
   "cell_type": "markdown",
   "metadata": {},
   "source": [
    "2. Python Dictionaries and Frequency Tables"
   ]
  },
  {
   "cell_type": "code",
   "execution_count": 3,
   "metadata": {},
   "outputs": [
    {
     "name": "stdout",
     "output_type": "stream",
     "text": [
      "True\n",
      "False\n",
      "False\n",
      "It exists\n"
     ]
    }
   ],
   "source": [
    "#Checking for Membership\n",
    "content_ratings = {'4+': 4433, '9+': 987, '12+': 1155, '17+': 622}\n",
    "\n",
    "print('12+' in content_ratings)\n",
    "print('10+' in content_ratings)\n",
    "print(4433 in content_ratings)  # returns False because the search is only for the dictionary's keys \n",
    "\n",
    "\n",
    "content_ratings = {'4+': 4433, '9+': 987, '12+': 1155, '17+': 622}\n",
    "is_in_dictionary_1 = '9+' in content_ratings\n",
    "is_in_dictionary_2 = 987 in content_ratings\n",
    "if '17+' in content_ratings:\n",
    "    result = \"It exists\"\n",
    "    print(result)"
   ]
  },
  {
   "cell_type": "code",
   "execution_count": 5,
   "metadata": {},
   "outputs": [
    {
     "name": "stdout",
     "output_type": "stream",
     "text": [
      "{'4+': 4433, '12+': 1155, '9+': 987, '17+': 622}\n"
     ]
    }
   ],
   "source": [
    "#Updating Dictionary Values\n",
    "content_ratings = {'4+': 622, '12+': '1155', '9+': 987, '17+': 4433}\n",
    "temp = content_ratings['4+']\n",
    "content_ratings['4+'] = content_ratings['17+'] # Assign the value stored in 17+ to 4+\n",
    "content_ratings['17+'] = temp  # Assign the value stored in the temporary variable to 17+\n",
    "content_ratings['12+'] = 1155  # Convert the value stored in 12+ into an integer\n",
    "\n",
    "print(content_ratings)"
   ]
  },
  {
   "cell_type": "code",
   "execution_count": 10,
   "metadata": {},
   "outputs": [
    {
     "name": "stdout",
     "output_type": "stream",
     "text": [
      "{'4+': 1, '9+': 0, '12+': 0, '17+': 0}\n",
      "{'4+': 2, '9+': 0, '12+': 0, '17+': 0}\n",
      "{'4+': 3, '9+': 0, '12+': 0, '17+': 0}\n",
      "{'4+': 3, '9+': 1, '12+': 0, '17+': 0}\n",
      "{'4+': 3, '9+': 2, '12+': 0, '17+': 0}\n",
      "{'4+': 3, '9+': 2, '12+': 1, '17+': 0}\n",
      "{'4+': 3, '9+': 2, '12+': 1, '17+': 1}\n",
      "Final dictionary:\n",
      "{'4+': 3, '9+': 2, '12+': 1, '17+': 1}\n"
     ]
    }
   ],
   "source": [
    "#  Counting with Dictionaries\n",
    "content_ratings = {'4+': 0, '9+': 0, '12+': 0, '17+': 0}\n",
    "ratings = ['4+', '4+', '4+', '9+', '9+', '12+', '17+']\n",
    "\n",
    "for c_rating in ratings:\n",
    "    if c_rating in content_ratings:\n",
    "        content_ratings[c_rating] += 1\n",
    "    print(content_ratings)\n",
    "\n",
    "print('Final dictionary:')\n",
    "print(content_ratings)\n"
   ]
  },
  {
   "cell_type": "code",
   "execution_count": 15,
   "metadata": {},
   "outputs": [
    {
     "name": "stdout",
     "output_type": "stream",
     "text": [
      "{'4+': 3, '9+': 2, '12+': 1, '17+': 1}\n"
     ]
    }
   ],
   "source": [
    "#Finding the Unique Values\n",
    "content_ratings = {}\n",
    "ratings = ['4+', '4+', '4+', '9+', '9+', '12+', '17+']\n",
    "\n",
    "for c_rating in ratings:\n",
    "    if c_rating in content_ratings:\n",
    "        content_ratings[c_rating] += 1\n",
    "    else:\n",
    "        content_ratings[c_rating] = 1\n",
    "\n",
    "print(content_ratings)"
   ]
  },
  {
   "cell_type": "code",
   "execution_count": 20,
   "metadata": {},
   "outputs": [
    {
     "name": "stdout",
     "output_type": "stream",
     "text": [
      "{'4+': 4433, '12+': 1155, '17+': 622, '9+': 987}\n"
     ]
    }
   ],
   "source": [
    "# Proportions and Percentages\n",
    "opened_file = open('d:\\Datasets\\AppleStore Dataset.csv', encoding='utf-8')  #Nếu không thêm encoding='utf-8' đằng sau thì sẽ bị lỗi\"UnicodeDecodeError\"\n",
    "                                                                            #Lỗi này xuất hiện khi mã hóa Unicode không thể chuyển đổi một chuỗi ký tự trong tệp tin sang dạng Unicode   \n",
    "                                                                            #Điều này có thể xảy ra khi tệp tin không được mã hóa đúng hoặc chứa ký tự không hợp lệ            \n",
    "from csv import reader              \n",
    "read_file = reader(opened_file)\n",
    "apps_data = list(read_file)\n",
    "genre_counting={}\n",
    "for row in apps_data[1:]:\n",
    "    genre=row[11]  # The genre comes as a string and has the index number 11\n",
    "    if genre in genre_counting:  #Check if genre exists as a key in genre_counting\n",
    "        genre_counting[genre]+=1\n",
    "    else:\n",
    "        genre_counting[genre]=1\n",
    "print(genre_counting)        # Outside the loop, print genre_counting and try to determine the most common app genre in our dataset."
   ]
  },
  {
   "cell_type": "code",
   "execution_count": 21,
   "metadata": {},
   "outputs": [
    {
     "name": "stdout",
     "output_type": "stream",
     "text": [
      "{'4+': 0.6159510907322495, '9+': 0.13714047519799916, '12+': 0.16048353480616923, '17+': 0.08642489926358204}\n"
     ]
    }
   ],
   "source": [
    "#Looping over Dictionaries\n",
    "content_ratings = {'4+': 4433, '9+': 987, '12+': 1155, '17+': 622}\n",
    "total_number_of_apps = 7197\n",
    "\n",
    "content_ratings['4+'] /= total_number_of_apps\n",
    "content_ratings['9+'] /= total_number_of_apps\n",
    "content_ratings['12+'] /= total_number_of_apps\n",
    "content_ratings['17+'] /= total_number_of_apps\n",
    "\n",
    "print(content_ratings)"
   ]
  },
  {
   "cell_type": "code",
   "execution_count": 24,
   "metadata": {},
   "outputs": [],
   "source": [
    "#Loop over the content_ratings dictionary, and transform the frequencies to percentages\n",
    "content_ratings = {'4+': 4433, '12+': 1155, '9+': 987, '17+': 622}\n",
    "total_number_of_apps = 7197\n",
    "for iteration_variable in content_ratings: #  Transform frequencies to percentages from within the loop\n",
    "    content_ratings[iteration_variable]/=total_number_of_apps #Transform the dictionary value (the frequency) to a proportion by dividing it by the total number of apps\n",
    "    content_ratings[iteration_variable]*=100 #Transform the updated dictionary value (the proportion) to a percentage by multiplying it by 100.\n",
    "percentage_17_plus=content_ratings['17+']\n",
    "percentage_15_allowed=content_ratings['4+']+content_ratings['9+'] + content_ratings['12+']  #Determine the percentage of apps that a 15-year-old can download"
   ]
  },
  {
   "cell_type": "code",
   "execution_count": 25,
   "metadata": {},
   "outputs": [
    {
     "name": "stdout",
     "output_type": "stream",
     "text": [
      "{'4+': 0.6159510907322495, '12+': 0.16048353480616923, '9+': 0.13714047519799916, '17+': 0.08642489926358204}\n",
      "{'4+': 4433, '12+': 1155, '9+': 987, '17+': 622}\n"
     ]
    }
   ],
   "source": [
    "# Keeping the Dictionaries Separate\n",
    "#Transform frequencies to proportions, we can create a new dictionary instead of overwriting the values in the initial dictionary\n",
    "content_ratings = {'4+': 4433, '12+': 1155, '9+': 987, '17+': 622}\n",
    "total_number_of_apps = 7197\n",
    "c_ratings_proportions = {}\n",
    "\n",
    "for key in content_ratings:\n",
    "    proportion = (content_ratings[key] / total_number_of_apps)\n",
    "    c_ratings_proportions[key] = proportion\n",
    "    \n",
    "print(c_ratings_proportions)\n",
    "print(content_ratings)"
   ]
  },
  {
   "cell_type": "code",
   "execution_count": 35,
   "metadata": {},
   "outputs": [
    {
     "name": "stdout",
     "output_type": "stream",
     "text": [
      "8.642489926358204\n",
      "0.08642489926358204\n"
     ]
    }
   ],
   "source": [
    "content_ratings ={'4+': 4433, '12+': 1155, '9+': 987, '17+': 622}\n",
    "total_number_of_apps = 7197\n",
    "c_ratings_proportions = {}\n",
    "c_ratings_percentages = {}\n",
    "for key in content_ratings:\n",
    "    proportions = (content_ratings[key] / total_number_of_apps)\n",
    "    c_ratings_proportions = proportions\n",
    "    percentages = (content_ratings[key] / total_number_of_apps) *100\n",
    "    c_ratings_percentages = percentages\n",
    "\n",
    "print(c_ratings_percentages)\n",
    "print(c_ratings_proportions)"
   ]
  },
  {
   "cell_type": "code",
   "execution_count": 41,
   "metadata": {},
   "outputs": [
    {
     "name": "stdout",
     "output_type": "stream",
     "text": [
      "589824.0\n"
     ]
    }
   ],
   "source": [
    "# Frequency Tables for Numerical Columns\n",
    "opened_file = open('d:\\Datasets\\AppleStore Dataset.csv', encoding=\"utf-8\")\n",
    "from csv import reader\n",
    "read_file = reader(opened_file)\n",
    "apps_data = list(read_file)\n",
    "\n",
    "#Extract the values in the size_bytes column in a separate list\n",
    "data_sizes=[]\n",
    "for row in apps_data[1:]:\n",
    "    size=float(row[3])  #Store the data size as a float in a variable named size\n",
    "    data_sizes.append(size)  \n",
    "    \n",
    "min_size=min(data_sizes)\n",
    "max_size=max(data_sizes)\n",
    "\n",
    "print(min_size)"
   ]
  },
  {
   "cell_type": "code",
   "execution_count": 44,
   "metadata": {},
   "outputs": [
    {
     "name": "stdout",
     "output_type": "stream",
     "text": [
      "{'0 - 10 MB': 285, '10 - 50 MB': 1639, '50 - 100 MB': 1778, '100 - 500 MB': 2894, '500 MB +': 601}\n"
     ]
    }
   ],
   "source": [
    "# Filtering for the Intervals\n",
    "#Example:  Store the frequency table as a dictionary\n",
    "data_sizes = {'0 - 10 MB': 0, '10 - 50 MB': 0, '50 - 100 MB': 0,\n",
    "                    '100 - 500 MB': 0, '500 MB +': 0}\n",
    "\n",
    "for row in apps_data[1:]:\n",
    "    data_size = float(row[3])\n",
    "\n",
    "    if data_size <= 10000000:\n",
    "        data_sizes['0 - 10 MB'] += 1\n",
    "\n",
    "    elif 10000000 < data_size <= 50000000:\n",
    "        data_sizes['10 - 50 MB'] += 1\n",
    "\n",
    "    elif 50000000 < data_size <= 100000000:\n",
    "        data_sizes['50 - 100 MB'] += 1\n",
    "\n",
    "    elif 100000000 < data_size <= 500000000:\n",
    "        data_sizes['100 - 500 MB'] += 1\n",
    "\n",
    "    elif data_size > 500000000:\n",
    "        data_sizes['500 MB +'] += 1\n",
    "\n",
    "\n",
    "print(data_sizes)"
   ]
  },
  {
   "cell_type": "code",
   "execution_count": 45,
   "metadata": {},
   "outputs": [],
   "source": [
    "#practice:\n",
    "opened_file = open(\"d:\\Datasets\\AppleStore Dataset.csv\", encoding=\"utf-8\")\n",
    "from csv import reader\n",
    "read_file = reader(opened_file)\n",
    "apps_data = list(read_file)\n",
    "\n",
    "#Find the minimum and maximum value in the rating_count_tot column\n",
    "n_user_rating = []\n",
    "for row in apps_data[1:]:\n",
    "    n_user_rating.append(float(row[6])) #Extract the values in the rating_count_tot column in a separate list\n",
    "ratings_max = max(n_user_rating)\n",
    "ratings_min = min(n_user_rating) #Choose a few intervals (try to choose five intervals or fewer), based on the minimum and maximum value found.\n",
    "\n",
    "##Once you've chosen the intervals, compute the frequency of the apps for each interval. Store the frequency table in a dictionary\n",
    "user_ratings_freq = {'0 - 10000': 0, '10000 - 100000': 0, '100000 - 500000': 0, \n",
    "                                                        '500000 - 1000000': 0, '1000000+': 0}\n",
    "for row in apps_data[1:]:\n",
    "    user_ratings = int(row[6])\n",
    "    \n",
    "    if user_ratings <= 10000:\n",
    "        user_ratings_freq['0 - 10000'] +=1\n",
    "        \n",
    "    elif 10000 < user_ratings <= 100000:\n",
    "        user_ratings_freq['10000 - 100000'] +=1\n",
    "    \n",
    "    elif 100000 < user_ratings <= 500000:\n",
    "        user_ratings_freq['100000 - 500000'] +=1\n",
    "\n",
    "    elif 500000 < user_ratings <= 1000000:\n",
    "        user_ratings_freq['500000 - 1000000'] +=1\n",
    "        \n",
    "    elif user_ratings > 1000000:\n",
    "        user_ratings_freq['1000000+'] +=1\n",
    "\n"
   ]
  }
 ],
 "metadata": {
  "kernelspec": {
   "display_name": "Python 3",
   "language": "python",
   "name": "python3"
  },
  "language_info": {
   "codemirror_mode": {
    "name": "ipython",
    "version": 3
   },
   "file_extension": ".py",
   "mimetype": "text/x-python",
   "name": "python",
   "nbconvert_exporter": "python",
   "pygments_lexer": "ipython3",
   "version": "3.10.9"
  },
  "orig_nbformat": 4
 },
 "nbformat": 4,
 "nbformat_minor": 2
}
