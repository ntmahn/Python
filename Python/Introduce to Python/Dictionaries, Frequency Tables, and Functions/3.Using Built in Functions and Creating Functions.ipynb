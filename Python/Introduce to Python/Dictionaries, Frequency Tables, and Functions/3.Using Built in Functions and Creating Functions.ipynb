{
 "cells": [
  {
   "cell_type": "markdown",
   "metadata": {},
   "source": [
    "3. Python Functions: Using Built-in Functions and Creating Functions"
   ]
  },
  {
   "cell_type": "code",
   "execution_count": 2,
   "metadata": {},
   "outputs": [
    {
     "name": "stdout",
     "output_type": "stream",
     "text": [
      "5\n"
     ]
    }
   ],
   "source": [
    "#Functions\n",
    "#Example\n",
    "list_1 = [21, 0, 72, 2, 5]\n",
    "\n",
    "length = 0\n",
    "for element in list_1:\n",
    "    length += 1\n",
    "\n",
    "print(length)"
   ]
  },
  {
   "cell_type": "code",
   "execution_count": 4,
   "metadata": {},
   "outputs": [
    {
     "name": "stdout",
     "output_type": "stream",
     "text": [
      "24\n",
      "103945\n"
     ]
    }
   ],
   "source": [
    "#Practices:\n",
    "# Compute the sum of a_list\n",
    "a_list = [4444, 8897, 6340, 9896, 4835, 4324, 10, 6445,\n",
    "          661, 1246, 1000, 7429, 1376, 8121, 647, 1280,\n",
    "          3993, 4881, 9500, 6701, 1199, 6251, 4432, 37]\n",
    "sum_manual = 0\n",
    "for i in a_list:\n",
    "    sum_manual +=1\n",
    "\n",
    "print(sum_manual)\n",
    "print(sum(a_list))"
   ]
  },
  {
   "cell_type": "code",
   "execution_count": 10,
   "metadata": {},
   "outputs": [
    {
     "name": "stdout",
     "output_type": "stream",
     "text": [
      "{'4+': 3, '9+': 1, '12+': 2, '17+': 2}\n"
     ]
    }
   ],
   "source": [
    "# Built-In Functions\n",
    "#Functions help us work quicker and simplify our code. Whenever we have a repetitive task, we can speed up our workflow by using a function.\n",
    "\n",
    "#Generate a frequency table for the ratings list\n",
    "ratings = ['4+', '4+', '4+', '9+', '12+', '12+', '17+', '17+']\n",
    "content_ratings = {}  # Start by creating an empty dictionary named content_ratings\n",
    "for rating in ratings:\n",
    "    if rating in content_ratings:\n",
    "        content_ratings[rating] +=1\n",
    "    else:\n",
    "        content_ratings[rating] =1\n",
    "print(content_ratings)\n"
   ]
  },
  {
   "cell_type": "code",
   "execution_count": 13,
   "metadata": {},
   "outputs": [
    {
     "name": "stdout",
     "output_type": "stream",
     "text": [
      "36\n",
      "16\n",
      "81\n"
     ]
    }
   ],
   "source": [
    "#Creating Our Own Functions\n",
    "# Started with  the def statement\n",
    "\n",
    "def square(a_number):   #Specified the name of the function (square)\n",
    "    squared_number = a_number * a_number  \n",
    "    return squared_number\n",
    "\n",
    "squared_6 = square(a_number=6)\n",
    "squared_4 = square(a_number=4)\n",
    "squared_9 = square(a_number=9)\n",
    "\n",
    "print(squared_6)\n",
    "print(squared_4)\n",
    "print(squared_9)"
   ]
  },
  {
   "cell_type": "code",
   "execution_count": 15,
   "metadata": {},
   "outputs": [],
   "source": [
    "#practice: Recreate the square() function above and compute the square for numbers 10 and 16\n",
    "def square(a_number):\n",
    "    squared_number = a_number * a_number\n",
    "    return squared_number\n",
    "\n",
    "squared_10 = square(a_number = 10)\n",
    "squared_16 = square(a_number = 16)"
   ]
  },
  {
   "cell_type": "code",
   "execution_count": 16,
   "metadata": {},
   "outputs": [],
   "source": [
    "#The Structure of a Function\n",
    "def square(a_number): #Header\n",
    "    squared_number = a_number * a_number #Body\n",
    "    return squared_number #The return statement\n",
    "\n",
    "#Create a function named add_10()\n",
    "def add_10(a_number):\n",
    "    result=10+a_number\n",
    "    return result\n",
    "\n",
    "add_30 = add_10(a_number = 30)\n",
    "add_90 = add_10(a_number = 90)"
   ]
  },
  {
   "cell_type": "code",
   "execution_count": 24,
   "metadata": {},
   "outputs": [
    {
     "name": "stdout",
     "output_type": "stream",
     "text": [
      "16\n",
      "July 15,2006\n",
      "February 4,2004\n",
      "June 9,1949\n"
     ]
    }
   ],
   "source": [
    "#Parameters and Arguments\n",
    "def square(a_number):\n",
    "    squared_number = a_number * a_number\n",
    "    return squared_number\n",
    "print(square(4))\n",
    "\n",
    "\n",
    "def date(year, month, day):   #Modify the date() function to add a year parameter\n",
    "    return month + \" \" + str(day) + \",\" + str(year)  #Convert both the year and day variables to strings using the str() function.\n",
    "print(date(2006, \"July\", 15))\n",
    "print(date(2004, \"February\", 4))\n",
    "print(date(1949, \"June\", 9))"
   ]
  },
  {
   "cell_type": "code",
   "execution_count": 27,
   "metadata": {},
   "outputs": [
    {
     "name": "stdout",
     "output_type": "stream",
     "text": [
      "36\n",
      "121\n",
      "14641\n",
      "214358881\n"
     ]
    }
   ],
   "source": [
    "#The Return Satement\n",
    "def square(a_number):\n",
    "    # Variable assignment step omitted\n",
    "    return a_number * a_number \n",
    "\n",
    "print(square(6))\n",
    "\n",
    "\n",
    "def square(a_number):\n",
    "    return a_number * a_number\n",
    "\n",
    "print(square(11))\n",
    "print(square(121))\n",
    "print(square(14641))"
   ]
  }
 ],
 "metadata": {
  "kernelspec": {
   "display_name": "Python 3",
   "language": "python",
   "name": "python3"
  },
  "language_info": {
   "codemirror_mode": {
    "name": "ipython",
    "version": 3
   },
   "file_extension": ".py",
   "mimetype": "text/x-python",
   "name": "python",
   "nbconvert_exporter": "python",
   "pygments_lexer": "ipython3",
   "version": "3.10.9"
  },
  "orig_nbformat": 4
 },
 "nbformat": 4,
 "nbformat_minor": 2
}
