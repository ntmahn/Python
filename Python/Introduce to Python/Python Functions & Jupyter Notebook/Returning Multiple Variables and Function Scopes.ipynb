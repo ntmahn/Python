{
 "cells": [
  {
   "cell_type": "code",
   "execution_count": 2,
   "metadata": {},
   "outputs": [
    {
     "name": "stdout",
     "output_type": "stream",
     "text": [
      "(20, 10)\n"
     ]
    }
   ],
   "source": [
    "#Returning Multiple Variables\n",
    "def sum_and_difference(a,b):\n",
    "    a_sum = a + b\n",
    "    difference = a - b\n",
    "    return a_sum, difference\n",
    "    #Separate variable names with a comma\n",
    "    \n",
    "sum_diff = sum_and_difference(15,5)\n",
    "print(sum_diff)"
   ]
  },
  {
   "cell_type": "code",
   "execution_count": 7,
   "metadata": {},
   "outputs": [
    {
     "name": "stdout",
     "output_type": "stream",
     "text": [
      "(25, 144, 169)\n"
     ]
    }
   ],
   "source": [
    "def pythagorean(a,b):\n",
    "    a_squared = a * a\n",
    "    b_squared = b * b\n",
    "    c_squared = a_squared + b_squared\n",
    "    \n",
    "    return a_squared, b_squared, c_squared\n",
    " \n",
    "print(pythagorean(5,12))"
   ]
  },
  {
   "cell_type": "code",
   "execution_count": 10,
   "metadata": {},
   "outputs": [
    {
     "name": "stdout",
     "output_type": "stream",
     "text": [
      "[99, 'a', 10.5]\n"
     ]
    }
   ],
   "source": [
    "#Tuples\n",
    "a_list = [1, 'a', 10.5]\n",
    "a_list[0] = 99\n",
    "print(a_list)"
   ]
  },
  {
   "cell_type": "markdown",
   "metadata": {},
   "source": [
    "The main difference between tuples and lists is whether we can modify the existing values or not. In the case of tuples, we can't modify the existing values, while in the case of lists, we can. Below, we're trying to modify the first value of a list and a tuple."
   ]
  },
  {
   "cell_type": "code",
   "execution_count": 12,
   "metadata": {},
   "outputs": [
    {
     "ename": "TypeError",
     "evalue": "'tuple' object does not support item assignment",
     "output_type": "error",
     "traceback": [
      "\u001b[1;31m---------------------------------------------------------------------------\u001b[0m",
      "\u001b[1;31mTypeError\u001b[0m                                 Traceback (most recent call last)",
      "Cell \u001b[1;32mIn[12], line 2\u001b[0m\n\u001b[0;32m      1\u001b[0m a_tuple \u001b[39m=\u001b[39m (\u001b[39m1\u001b[39m, \u001b[39m'\u001b[39m\u001b[39ma\u001b[39m\u001b[39m'\u001b[39m, \u001b[39m10.5\u001b[39m)\n\u001b[1;32m----> 2\u001b[0m a_tuple[\u001b[39m0\u001b[39;49m] \u001b[39m=\u001b[39m \u001b[39m99\u001b[39m\n\u001b[0;32m      3\u001b[0m \u001b[39mprint\u001b[39m(a_tuple)\n",
      "\u001b[1;31mTypeError\u001b[0m: 'tuple' object does not support item assignment"
     ]
    }
   ],
   "source": [
    "a_tuple = (1, 'a', 10.5)\n",
    "a_tuple[0] = 99\n",
    "print(a_tuple)"
   ]
  },
  {
   "cell_type": "code",
   "execution_count": 15,
   "metadata": {},
   "outputs": [],
   "source": [
    "def open_dataset(file_name='d:\\Datasets\\AppleStore.csv', header = True):\n",
    "    opened_file = open(file_name, encoding = 'utf-8')\n",
    "    from csv import reader\n",
    "    read_file = reader(opened_file)\n",
    "    data = list(read_file)\n",
    "    \n",
    "    if header:\n",
    "        return data[1:][0]\n",
    "    else:\n",
    "        return data\n",
    "    \n",
    "all_data = open_dataset()\n",
    "header = all_data[1]\n",
    "apps_data = all_data[0]\n",
    "    "
   ]
  },
  {
   "cell_type": "code",
   "execution_count": 18,
   "metadata": {},
   "outputs": [
    {
     "name": "stdout",
     "output_type": "stream",
     "text": [
      "20\n",
      "10\n"
     ]
    }
   ],
   "source": [
    "#More About Tuples\n",
    "def sum_and_difference(a, b, sum=True):\n",
    "    a_sum = a + b\n",
    "    difference = a - b\n",
    "    return a_sum, difference\n",
    "\n",
    "a_sum, a_diff = sum_and_difference(15, 5)\n",
    "print(a_sum)\n",
    "print(a_diff)"
   ]
  },
  {
   "cell_type": "code",
   "execution_count": 23,
   "metadata": {},
   "outputs": [
    {
     "name": "stdout",
     "output_type": "stream",
     "text": [
      "3.14\n",
      "3.14\n",
      "None\n",
      "<class 'NoneType'>\n",
      "The chair costs $40.99.\n",
      "None\n",
      "The book costs $12.84.\n",
      "None\n",
      "The soap costs $3.95.\n",
      "None\n"
     ]
    }
   ],
   "source": [
    "#No Return Statement\n",
    "def print_constant():\n",
    "    x = 3.14\n",
    "    print(x)\n",
    "\n",
    "print_constant()\n",
    "\n",
    "def print_constant():\n",
    "    x = 3.14\n",
    "    print(x)\n",
    "\n",
    "j = print_constant()\n",
    "print(j)\n",
    "print(type(j))\n",
    "\n",
    "\n",
    "def price(item, cost):\n",
    "    print( \"The \" + item + \" costs $\" + str(cost) + \".\")\n",
    "\n",
    "print(price(\"chair\", 40.99))\n",
    "print(price(\"book\", 12.84))\n",
    "print(price(\"soap\", 3.95))"
   ]
  },
  {
   "cell_type": "code",
   "execution_count": 24,
   "metadata": {},
   "outputs": [
    {
     "name": "stdout",
     "output_type": "stream",
     "text": [
      "3.14\n",
      "10\n"
     ]
    }
   ],
   "source": [
    "#Scopes — Global and Local\n",
    "x = 10\n",
    "\n",
    "def print_constant():\n",
    "    x = 3.14\n",
    "    print(x)\n",
    "\n",
    "print_constant()\n",
    "print(x)\n",
    "\n",
    "#Output: 3.14 => Function  10 => Main program"
   ]
  },
  {
   "cell_type": "code",
   "execution_count": 27,
   "metadata": {},
   "outputs": [
    {
     "name": "stdout",
     "output_type": "stream",
     "text": [
      "2.72\n",
      " math\n",
      "30\n",
      "5\n",
      "6.0\n"
     ]
    }
   ],
   "source": [
    "e = ' math'\n",
    "a_sum = 30\n",
    "length = 5\n",
    "def exponential(x):\n",
    "    e = 2.72\n",
    "    print(e)\n",
    "    return e ** x\n",
    "result = exponential(5)\n",
    "print(e)\n",
    "\n",
    "def divide():\n",
    "    print(a_sum)\n",
    "    print(length)\n",
    "    return a_sum / length\n",
    "result_2 = divide()\n",
    "print(result_2)\n"
   ]
  }
 ],
 "metadata": {
  "kernelspec": {
   "display_name": "Python 3",
   "language": "python",
   "name": "python3"
  },
  "language_info": {
   "codemirror_mode": {
    "name": "ipython",
    "version": 3
   },
   "file_extension": ".py",
   "mimetype": "text/x-python",
   "name": "python",
   "nbconvert_exporter": "python",
   "pygments_lexer": "ipython3",
   "version": "3.10.9"
  },
  "orig_nbformat": 4
 },
 "nbformat": 4,
 "nbformat_minor": 2
}
